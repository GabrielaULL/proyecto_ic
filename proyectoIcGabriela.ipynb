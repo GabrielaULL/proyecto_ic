{
  "nbformat": 4,
  "nbformat_minor": 0,
  "metadata": {
    "colab": {
      "provenance": [],
      "authorship_tag": "ABX9TyPHtQxnH2+RyEqwf4L6bOeV",
      "include_colab_link": true
    },
    "kernelspec": {
      "name": "python3",
      "display_name": "Python 3"
    },
    "language_info": {
      "name": "python"
    }
  },
  "cells": [
    {
      "cell_type": "markdown",
      "metadata": {
        "id": "view-in-github",
        "colab_type": "text"
      },
      "source": [
        "<a href=\"https://colab.research.google.com/github/GabrielaULL/proyecto_ic/blob/main/proyectoIcGabriela.ipynb\" target=\"_parent\"><img src=\"https://colab.research.google.com/assets/colab-badge.svg\" alt=\"Open In Colab\"/></a>"
      ]
    },
    {
      "cell_type": "code",
      "execution_count": null,
      "metadata": {
        "id": "7frrCkwe8zbB"
      },
      "outputs": [],
      "source": []
    },
    {
      "cell_type": "markdown",
      "source": [
        "#1. Introducción\n",
        "**Problema seleccionado:**\n",
        "Se trata de la resolución del Problema del Viajante (TSP: Traveling Salesperson Problem). En este problema se dispone de un conjunto de ciudades y la tarea consiste en determinar la ruta (un ciclo) de menor distancia que permita visitar cada ciudad exactamente una vez y volver al punto de origen.\n",
        "\n"
      ],
      "metadata": {
        "id": "y3YLhNmAO_Go"
      }
    },
    {
      "cell_type": "markdown",
      "source": [
        "#2. Descripción de los algoritmos de resolución\n",
        "* **Representación de una solución al problema**\n",
        "\n",
        "\n",
        "La solución se representa mediante una permutación de las ciudades. Cada individuo (solución) es un arreglo en el que cada elemento representa una ciudad (por ejemplo, sus coordenadas o un identificador) y el orden determina la secuencia en la que se visitan las ciudades. Así, una solución ( R ) puede definirse como:\n",
        "\n",
        "R = [ciudad_1, ciudad_2, ..., ciudad_n]\n",
        "\n",
        "Esta representación garantiza que, si se cuida el operador de cruce y mutación, se respetará la restricción de visitar cada ciudad solo una vez.\n",
        "\n",
        "Incialmente se importarán las librerías necesarias, se definirá una instancia de ciudades y sus coordenadas.\n",
        "\n"
      ],
      "metadata": {
        "id": "SxfWqtozRZ_g"
      }
    },
    {
      "cell_type": "code",
      "source": [
        "# Importar las librerías necesarias\n",
        "import random\n",
        "import math\n",
        "import matplotlib.pyplot as plt\n",
        "\n",
        "# Definición de las ciudades: nombre y coordenadas (latitud, longitud)\n",
        "ciudades = {\n",
        "    \"Madrid\":    (40.4168, -3.7038),\n",
        "    \"Barcelona\": (41.3851,  2.1734),\n",
        "    \"Valencia\":  (39.4699, -0.3763),\n",
        "    \"Zamora\":    (41.5033, -5.7470)}\n",
        "\n",
        "# Extraemos la lista de nombres de ciudades.\n",
        "nombres_ciudades = list(ciudades.keys())"
      ],
      "metadata": {
        "id": "hZem4eagQsjn"
      },
      "execution_count": null,
      "outputs": []
    },
    {
      "cell_type": "markdown",
      "source": [
        "A continuación se encuentran las Funciones para:\n",
        "* calcular la distancia euclidiana entre dos ciudades ciudades\n",
        "* obtener la matriz distancias simétricas entre las ciudades.\n",
        "* Función de distancia total de una ruta (con recorrido del ciclo cerrado)"
      ],
      "metadata": {
        "id": "kP4Jzv40buJd"
      }
    },
    {
      "cell_type": "code",
      "source": [
        "def distancia(coord1, coord2):\n",
        "    distancia = math.sqrt((coord1[0] - coord2[0])**2 + (coord1[1] - coord2[1])**2)\n",
        "    return distancia\n",
        "\n",
        "def calcular_matriz_distancias(ciudades, nombres_ciudades):\n",
        "    num_ciudades = len(nombres_ciudades)\n",
        "    matriz = [[0 for _ in range(num_ciudades)] for _ in range(num_ciudades)] #Creando una matriz de dimensiones nxn y llenándola con 0s, donde n es el num_ciudades\n",
        "    for i in range(num_ciudades):\n",
        "        for j in range(num_ciudades):\n",
        "            matriz[i][j] = distancia(ciudades[nombres_ciudades[i]], ciudades[nombres_ciudades[j]]) #Llenando la matriz con las distancias entre ciudades, considerando que las filas corresponden a las n ciudades y las columnas también corresponden a las n ciudades, para establecer todas las parejas\n",
        "    return matriz\n",
        "\n",
        "def calcular_distancias_utiles(matriz, nombres_ciudades):\n",
        "    distancias_utiles = []\n",
        "    for i in range(len(ciudades)):\n",
        "        for j in range(i + 1, len(ciudades)):  # Comenzamos desde i+1 para evitar duplicados\n",
        "            distancia = matriz[i][j]\n",
        "            distancias_utiles.append((nombres_ciudades[i], nombres_ciudades[j], distancia))\n",
        "    return distancias_utiles\n",
        "\n",
        "\n",
        "def distancia_ruta(ruta):\n",
        "    total = 0\n",
        "    n = len(ruta)\n",
        "    for i in range(n):\n",
        "        total += distancia(ciudades[ruta[i]], ciudades[ruta[(i+1) % n]]) #[(i+1) % n] puede dar como resultado 3 casos: si (i+1)<n el resultado es (i+1), si (i+1)=n el resultado es 0, si (i+1)>n el resultado es la parte entera, pero que en este caso no aplicaría\n",
        "    return total # Como se ve en el comentario anterior, el total incluye la distancia entre la ultima ciudad (cuando (i+1)=n), donde el índice sería 0."
      ],
      "metadata": {
        "id": "2quqTE6bbdSt"
      },
      "execution_count": null,
      "outputs": []
    },
    {
      "cell_type": "markdown",
      "source": [
        "* **Definición de la función de fitness**\n",
        "\n",
        "La función de fitness nos ayudará a evaluar la calidad de una solución. En el contexto del TSP, dado que el objetivo es minimizar la distancia, se suele definir el fitness como el inverso de la distancia total, de forma que soluciones con menor recorrido tengan un valor de fitness mayor.\n",
        "- Solución factible:\n",
        "Si la ruta cumple todas las restricciones (todas las ciudades sin repeticiones y ciclo cerrado), se define:\n"
      ],
      "metadata": {
        "id": "EcvQH38NYik3"
      }
    },
    {
      "cell_type": "code",
      "source": [
        "def fitness(solucion):\n",
        "    dist = distancia_ruta(solucion)\n",
        "    fitness_solucion = 1.0 / dist if dist > 0 else float('inf')\n",
        "    return fitness_solucion"
      ],
      "metadata": {
        "id": "MSXKT8h9WLO6"
      },
      "execution_count": null,
      "outputs": []
    },
    {
      "cell_type": "markdown",
      "source": [
        "* **Búsqueda aleatoria**\n",
        "\n",
        "Se genera una población inicial mediante permutaciones aleatorias de la lista de ciudades"
      ],
      "metadata": {
        "id": "FhYXjgeNOqve"
      }
    },
    {
      "cell_type": "code",
      "source": [
        "def crear_poblacion_inicial(tam_poblacion, lista_ciudades):\n",
        "    poblacion = []\n",
        "    for _ in range(tam_poblacion): #Se crean nuevas aleatorias y se añaden a la lista de la población el número de veces indicado por el tamaño de la población\n",
        "        ruta = lista_ciudades[:] #Se realiza una copia de la lista original para barajar sin afectar la lista original\n",
        "        random.shuffle(ruta) #Se crea una ruta de forma aleatoria\n",
        "        poblacion.append(ruta) #Se añade esa ruta a la población\n",
        "    return poblacion\n",
        "\n",
        "#BÚSQUEDA ALEATORIA\n",
        "#Imprimiendo la población inicial de la búsqueda aleatoria\n",
        "tam_poblacion = 24\n",
        "poblacion = crear_poblacion_inicial(tam_poblacion, nombres_ciudades)\n",
        "# Imprimiendo la distancia de cada ruta:\n",
        "print(\"\\nRESULTADOS DE BÚSQUEDA ALEATORIA\")\n",
        "print(\"\\nPoblación Inicial y Distancias de las Rutas:\")\n",
        "for i, ruta in enumerate(poblacion):\n",
        "    total = distancia_ruta(poblacion[i])\n",
        "    print(f\"Ruta {i+1}: {poblacion[i]}, Distancia: {total}\")\n",
        "#Determinando la mejor solución\n",
        "mejor_solucion = None\n",
        "mejor_fitness = float('-inf')  # Inicializamos con el peor fitness posible\n",
        "for solucion in poblacion:\n",
        "    fitness_solucion = fitness(solucion) #Llamamos a la función fitness enviando como parámetro una solución (correspondiente a cada uno de los elementos de la población generada)\n",
        "    if fitness_solucion > mejor_fitness:\n",
        "        mejor_fitness = fitness_solucion\n",
        "        mejor_solucion = solucion\n",
        "print(\"\\nMejor Ruta Encontrada en la Población Inicial: \", mejor_solucion)\n",
        "print(\"Distancia de la Mejor Ruta: \", (1.0 / mejor_fitness)) # Convertimos el fitness de nuevo a distancia"
      ],
      "metadata": {
        "id": "mEFM2KgpOxB1",
        "colab": {
          "base_uri": "https://localhost:8080/"
        },
        "outputId": "649428cf-9bf4-43c4-ba85-79bf13aa8220"
      },
      "execution_count": null,
      "outputs": [
        {
          "output_type": "stream",
          "name": "stdout",
          "text": [
            "\n",
            "RESULTADOS DE BÚSQUEDA ALEATORIA\n",
            "\n",
            "Población Inicial y Distancias de las Rutas:\n",
            "Ruta 1: ['Valencia', 'Madrid', 'Barcelona', 'Zamora'], Distancia: 23.080066671202907\n",
            "Ruta 2: ['Barcelona', 'Madrid', 'Zamora', 'Valencia'], Distancia: 17.202178661695974\n",
            "Ruta 3: ['Zamora', 'Valencia', 'Barcelona', 'Madrid'], Distancia: 17.202178661695974\n",
            "Ruta 4: ['Zamora', 'Valencia', 'Madrid', 'Barcelona'], Distancia: 23.080066671202907\n",
            "Ruta 5: ['Zamora', 'Valencia', 'Madrid', 'Barcelona'], Distancia: 23.080066671202907\n",
            "Ruta 6: ['Barcelona', 'Valencia', 'Madrid', 'Zamora'], Distancia: 16.8838884801635\n",
            "Ruta 7: ['Valencia', 'Madrid', 'Zamora', 'Barcelona'], Distancia: 16.8838884801635\n",
            "Ruta 8: ['Barcelona', 'Valencia', 'Zamora', 'Madrid'], Distancia: 17.202178661695974\n",
            "Ruta 9: ['Zamora', 'Madrid', 'Valencia', 'Barcelona'], Distancia: 16.8838884801635\n",
            "Ruta 10: ['Madrid', 'Zamora', 'Barcelona', 'Valencia'], Distancia: 16.8838884801635\n",
            "Ruta 11: ['Madrid', 'Zamora', 'Barcelona', 'Valencia'], Distancia: 16.8838884801635\n",
            "Ruta 12: ['Zamora', 'Valencia', 'Madrid', 'Barcelona'], Distancia: 23.080066671202907\n",
            "Ruta 13: ['Valencia', 'Zamora', 'Madrid', 'Barcelona'], Distancia: 17.202178661695974\n",
            "Ruta 14: ['Valencia', 'Barcelona', 'Madrid', 'Zamora'], Distancia: 17.202178661695974\n",
            "Ruta 15: ['Zamora', 'Valencia', 'Barcelona', 'Madrid'], Distancia: 17.202178661695974\n",
            "Ruta 16: ['Madrid', 'Barcelona', 'Zamora', 'Valencia'], Distancia: 23.080066671202907\n",
            "Ruta 17: ['Zamora', 'Madrid', 'Valencia', 'Barcelona'], Distancia: 16.8838884801635\n",
            "Ruta 18: ['Valencia', 'Zamora', 'Madrid', 'Barcelona'], Distancia: 17.202178661695974\n",
            "Ruta 19: ['Zamora', 'Barcelona', 'Valencia', 'Madrid'], Distancia: 16.8838884801635\n",
            "Ruta 20: ['Madrid', 'Valencia', 'Barcelona', 'Zamora'], Distancia: 16.8838884801635\n",
            "Ruta 21: ['Madrid', 'Valencia', 'Barcelona', 'Zamora'], Distancia: 16.8838884801635\n",
            "Ruta 22: ['Valencia', 'Barcelona', 'Zamora', 'Madrid'], Distancia: 16.8838884801635\n",
            "Ruta 23: ['Valencia', 'Madrid', 'Zamora', 'Barcelona'], Distancia: 16.8838884801635\n",
            "Ruta 24: ['Barcelona', 'Valencia', 'Madrid', 'Zamora'], Distancia: 16.8838884801635\n",
            "\n",
            "Mejor Ruta Encontrada en la Población Inicial:  ['Barcelona', 'Valencia', 'Madrid', 'Zamora']\n",
            "Distancia de la Mejor Ruta:  16.8838884801635\n"
          ]
        }
      ]
    },
    {
      "cell_type": "code",
      "source": [
        "# Probando el código\n",
        "# Imprimiendo la lista de ciudades\n",
        "print(nombres_ciudades)\n",
        "print(\"\\n\")\n",
        "\n",
        "# Imprimiendo las coordenadas de las ciudades\n",
        "coordenadas_ciudades = [ciudades[nombre] for nombre in ciudades]\n",
        "print(coordenadas_ciudades)\n",
        "print(\"\\n\")\n",
        "\n",
        "#Imprimiendo la matriz de distancias entre ciudades\n",
        "matriz = calcular_matriz_distancias(ciudades, nombres_ciudades)\n",
        "for fila in matriz:\n",
        "    print(fila)\n",
        "print(\"\\n\")\n",
        "# Imprimiendo la matriz de distancias, enumerando cada una de las distancias (que serían en total nxn)\n",
        "for i in range(len(ciudades)):\n",
        "    for j in range(len(ciudades)):\n",
        "        #print(f\"Distancia entre ciudad {i+1} y ciudad {j+1}: {matriz[i][j]:.2f}\")\n",
        "        print(f\"Distancia entre ciudad {i+1} y ciudad {j+1}: {matriz[i][j]:.2f} ({nombres_ciudades[i]} y {nombres_ciudades[j]}) \")\n",
        "print(\"\\n\")\n",
        "\n",
        "#Probando el evitar distancias duplicadas y las distancias de 0\n",
        "\"\"\"for i in range(len(ciudades)):\n",
        "    for j in range(i + 1, len(ciudades)):  # Comenzamos desde i+1 para evitar imprimir duplicados y la distancia de una ciudad a sí misma\n",
        "        print(f\"Distancia entre {nombres_ciudades[i]} y {nombres_ciudades[j]}: {matriz_distancias[i][j]:.2f}\")\n",
        "print(\"\\n\")\n",
        "\"\"\"\n",
        "#Llamando ala funcion calcular_distancias_utiles, pero dejar si es necesario sino eliminarla y descomentar las líneas previas que hacen la impresión sin llamar a una función.\n",
        "distancias_utiles = calcular_distancias_utiles(matriz, nombres_ciudades)\n",
        "n=len(ciudades)\n",
        "num_distancias_utiles = int(((n*n)-n)/2)\n",
        "for i in range(num_distancias_utiles):\n",
        "  print(distancias_utiles[i])\n",
        "print(\"\\n\")\n"
      ],
      "metadata": {
        "colab": {
          "base_uri": "https://localhost:8080/"
        },
        "id": "yAYxI7CHckTS",
        "outputId": "13705790-8060-475a-e976-7e4a2db00ad1",
        "collapsed": true
      },
      "execution_count": null,
      "outputs": [
        {
          "output_type": "stream",
          "name": "stdout",
          "text": [
            "['Madrid', 'Barcelona', 'Valencia', 'Zamora']\n",
            "\n",
            "\n",
            "[(40.4168, -3.7038), (41.3851, 2.1734), (39.4699, -0.3763), (41.5033, -5.747)]\n",
            "\n",
            "\n",
            "[0.0, 5.956432214841364, 3.459606315753282, 2.3141193767824513]\n",
            "[5.956432214841364, 0.0, 3.188880858545831, 7.921281929081934]\n",
            "[3.459606315753282, 3.188880858545831, 0.0, 5.742746211526329]\n",
            "[2.3141193767824513, 7.921281929081934, 5.742746211526329, 0.0]\n",
            "\n",
            "\n",
            "Distancia entre ciudad 1 y ciudad 1: 0.00 (Madrid y Madrid) \n",
            "Distancia entre ciudad 1 y ciudad 2: 5.96 (Madrid y Barcelona) \n",
            "Distancia entre ciudad 1 y ciudad 3: 3.46 (Madrid y Valencia) \n",
            "Distancia entre ciudad 1 y ciudad 4: 2.31 (Madrid y Zamora) \n",
            "Distancia entre ciudad 2 y ciudad 1: 5.96 (Barcelona y Madrid) \n",
            "Distancia entre ciudad 2 y ciudad 2: 0.00 (Barcelona y Barcelona) \n",
            "Distancia entre ciudad 2 y ciudad 3: 3.19 (Barcelona y Valencia) \n",
            "Distancia entre ciudad 2 y ciudad 4: 7.92 (Barcelona y Zamora) \n",
            "Distancia entre ciudad 3 y ciudad 1: 3.46 (Valencia y Madrid) \n",
            "Distancia entre ciudad 3 y ciudad 2: 3.19 (Valencia y Barcelona) \n",
            "Distancia entre ciudad 3 y ciudad 3: 0.00 (Valencia y Valencia) \n",
            "Distancia entre ciudad 3 y ciudad 4: 5.74 (Valencia y Zamora) \n",
            "Distancia entre ciudad 4 y ciudad 1: 2.31 (Zamora y Madrid) \n",
            "Distancia entre ciudad 4 y ciudad 2: 7.92 (Zamora y Barcelona) \n",
            "Distancia entre ciudad 4 y ciudad 3: 5.74 (Zamora y Valencia) \n",
            "Distancia entre ciudad 4 y ciudad 4: 0.00 (Zamora y Zamora) \n",
            "\n",
            "\n",
            "('Madrid', 'Barcelona', 5.956432214841364)\n",
            "('Madrid', 'Valencia', 3.459606315753282)\n",
            "('Madrid', 'Zamora', 2.3141193767824513)\n",
            "('Barcelona', 'Valencia', 3.188880858545831)\n",
            "('Barcelona', 'Zamora', 7.921281929081934)\n",
            "('Valencia', 'Zamora', 5.742746211526329)\n",
            "\n",
            "\n"
          ]
        }
      ]
    }
  ]
}