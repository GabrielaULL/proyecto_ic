{
  "nbformat": 4,
  "nbformat_minor": 0,
  "metadata": {
    "colab": {
      "provenance": [],
      "authorship_tag": "ABX9TyN4A6EJD0VRHbjhrbZxF1og",
      "include_colab_link": true
    },
    "kernelspec": {
      "name": "python3",
      "display_name": "Python 3"
    },
    "language_info": {
      "name": "python"
    }
  },
  "cells": [
    {
      "cell_type": "markdown",
      "metadata": {
        "id": "view-in-github",
        "colab_type": "text"
      },
      "source": [
        "<a href=\"https://colab.research.google.com/github/GabrielaULL/proyecto_ic/blob/main/proyectoIcGabriela.ipynb\" target=\"_parent\"><img src=\"https://colab.research.google.com/assets/colab-badge.svg\" alt=\"Open In Colab\"/></a>"
      ]
    },
    {
      "cell_type": "markdown",
      "source": [
        "#1. Introducción\n",
        "**Problema seleccionado:**\n",
        "Se trata de la resolución del Problema del Viajante (TSP: Traveling Salesperson Problem). En este problema se dispone de un conjunto de ciudades y la tarea consiste en determinar la ruta (un ciclo) de menor distancia que permita visitar cada ciudad exactamente una vez y volver al punto de origen.\n",
        "\n"
      ],
      "metadata": {
        "id": "y3YLhNmAO_Go"
      }
    },
    {
      "cell_type": "markdown",
      "source": [
        "#2. Descripción de los algoritmos de resolución\n",
        "* **Representación de una solución al problema**\n",
        "\n",
        "\n",
        "La solución se representa mediante una permutación de las ciudades. Cada individuo (solución) es un arreglo en el que cada elemento representa una ciudad (por ejemplo, sus coordenadas o un identificador) y el orden determina la secuencia en la que se visitan las ciudades. Así, una solución ( R ) puede definirse como:\n",
        "\n",
        "R = [ciudad_1, ciudad_2, ..., ciudad_n]\n",
        "\n",
        "Esta representación garantiza que, si se cuida el operador de cruce y mutación, se respetará la restricción de visitar cada ciudad solo una vez.\n",
        "\n",
        "Incialmente se importarán las librerías necesarias, se definirá una instancia de ciudades y sus coordenadas.\n",
        "\n"
      ],
      "metadata": {
        "id": "SxfWqtozRZ_g"
      }
    },
    {
      "cell_type": "code",
      "source": [
        "# Importar las librerías necesarias\n",
        "import random\n",
        "import math\n",
        "import matplotlib.pyplot as plt\n",
        "\n",
        "# Definición de las ciudades: nombre y coordenadas (latitud, longitud)\n",
        "ciudades = {\n",
        "    \"Madrid\":    (40.4168, -3.7038),\n",
        "    \"Barcelona\": (41.3851,  2.1734),\n",
        "    \"Valencia\":  (39.4699, -0.3763),\n",
        "    \"Zamora\":    (41.5033, -5.7470)}\n",
        "\n",
        "# Extraemos la lista de nombres de ciudades.\n",
        "nombres_ciudades = list(ciudades.keys())"
      ],
      "metadata": {
        "id": "hZem4eagQsjn"
      },
      "execution_count": 1,
      "outputs": []
    },
    {
      "cell_type": "markdown",
      "source": [
        "A continuación se encuentran las Funciones para:\n",
        "* calcular la distancia euclidiana entre dos ciudades ciudades\n",
        "* obtener la matriz distancias simétricas entre las ciudades.\n",
        "* Función de distancia total de una ruta (con recorrido del ciclo cerrado)"
      ],
      "metadata": {
        "id": "kP4Jzv40buJd"
      }
    },
    {
      "cell_type": "code",
      "source": [
        "def distancia(coord1, coord2):\n",
        "    distancia = math.sqrt((coord1[0] - coord2[0])**2 + (coord1[1] - coord2[1])**2)\n",
        "    return distancia\n",
        "\n",
        "def calcular_matriz_distancias(ciudades, nombres_ciudades):\n",
        "    num_ciudades = len(nombres_ciudades)\n",
        "    matriz = [[0 for _ in range(num_ciudades)] for _ in range(num_ciudades)] #Creando una matriz de dimensiones nxn y llenándola con 0s, donde n es el num_ciudades\n",
        "    for i in range(num_ciudades):\n",
        "        for j in range(num_ciudades):\n",
        "            matriz[i][j] = distancia(ciudades[nombres_ciudades[i]], ciudades[nombres_ciudades[j]]) #Llenando la matriz con las distancias entre ciudades, considerando que las filas corresponden a las n ciudades y las columnas también corresponden a las n ciudades, para establecer todas las parejas\n",
        "    return matriz\n",
        "\n",
        "def calcular_distancias_utiles(matriz, nombres_ciudades):\n",
        "    distancias_utiles = []\n",
        "    for i in range(len(ciudades)):\n",
        "        for j in range(i + 1, len(ciudades)):  # Comenzamos desde i+1 para evitar duplicados\n",
        "            distancia = matriz[i][j]\n",
        "            distancias_utiles.append((nombres_ciudades[i], nombres_ciudades[j], distancia))\n",
        "    return distancias_utiles\n",
        "\n",
        "def distancia_ruta(ruta):\n",
        "    total = 0\n",
        "    n = len(ruta)\n",
        "    for i in range(n):\n",
        "        total += distancia(ciudades[ruta[i]], ciudades[ruta[(i+1) % n]]) #[(i+1) % n] puede dar como resultado 3 casos: si (i+1)<n el resultado es (i+1), si (i+1)=n el resultado es 0, si (i+1)>n el resultado es la parte entera, pero que en este caso no aplicaría\n",
        "    return total # Como se ve en el comentario anterior, el total incluye la distancia entre la ultima ciudad (cuando (i+1)=n), donde el índice sería 0."
      ],
      "metadata": {
        "id": "2quqTE6bbdSt"
      },
      "execution_count": 2,
      "outputs": []
    },
    {
      "cell_type": "markdown",
      "source": [
        "* **Definición de la función de fitness**\n",
        "\n",
        "La función de fitness nos ayudará a evaluar la calidad de una solución. En el contexto del TSP, dado que el objetivo es minimizar la distancia, se suele definir el fitness como el inverso de la distancia total, de forma que soluciones con menor recorrido tengan un valor de fitness mayor.\n"
      ],
      "metadata": {
        "id": "EcvQH38NYik3"
      }
    },
    {
      "cell_type": "markdown",
      "source": [],
      "metadata": {
        "id": "HcAiHbvZqy6C"
      }
    },
    {
      "cell_type": "code",
      "source": [
        "def fitness(solucion):\n",
        "    dist = distancia_ruta(solucion)\n",
        "    fitness_solucion = 1.0 / dist if dist > 0 else float('inf')\n",
        "    return fitness_solucion"
      ],
      "metadata": {
        "id": "MSXKT8h9WLO6"
      },
      "execution_count": 3,
      "outputs": []
    },
    {
      "cell_type": "markdown",
      "source": [
        "* **Función de Inicialización**\n",
        "\n",
        "Se crea una población compuesta por rutas aleatorias."
      ],
      "metadata": {
        "id": "bxkezkqGq9ig"
      }
    },
    {
      "cell_type": "markdown",
      "source": [],
      "metadata": {
        "id": "ARVNcgvt5qRN"
      }
    },
    {
      "cell_type": "code",
      "source": [
        "def crear_poblacion_inicial(tam_poblacion, nombres_ciudades):\n",
        "    poblacion = []\n",
        "    #distancia_de_ruta = []\n",
        "    for _ in range(tam_poblacion): #Se crean nuevas rutas aleatorias y se añaden a la lista de la población el número de veces indicado por el tamaño de la población\n",
        "        ruta = nombres_ciudades[:] #Se realiza una copia de la lista original para barajar sin afectar la lista original\n",
        "        random.shuffle(ruta) #Se crea una ruta de forma aleatoria\n",
        "        poblacion.append(ruta) #Se añade esa ruta a la población\n",
        "\n",
        "    ruta_y_distancia = {}\n",
        "    for i, ruta in enumerate(poblacion): # enumerate ya te da el índice y el valor\n",
        "        total = distancia_ruta(ruta)\n",
        "        ruta_y_distancia[tuple(ruta)] = total  # Usamos la ruta como clave\n",
        "    return poblacion, ruta_y_distancia\n"
      ],
      "metadata": {
        "id": "nbqf6FGbqyco"
      },
      "execution_count": 4,
      "outputs": []
    },
    {
      "cell_type": "markdown",
      "source": [
        "* **IMPLEMENTACIÓN DE LA BÚSQUEDA ALEATORIA**\n",
        "\n",
        "Se genera una población inicial mediante permutaciones aleatorias de la lista de ciudades"
      ],
      "metadata": {
        "id": "FhYXjgeNOqve"
      }
    },
    {
      "cell_type": "markdown",
      "source": [],
      "metadata": {
        "id": "bAFqQ4Blq16r"
      }
    },
    {
      "cell_type": "code",
      "source": [
        "#BÚSQUEDA ALEATORIA\n",
        "#Imprimiendo la población inicial de la búsqueda aleatoria\n",
        "tam_poblacion = 24\n",
        "poblacion, ruta_y_distancia = crear_poblacion_inicial(tam_poblacion, nombres_ciudades)\n",
        "# Imprimiendo la distancia de cada ruta:\n",
        "print(\"\\nRESULTADOS DE BÚSQUEDA ALEATORIA\")\n",
        "print(\"\\nPOBLACIÓN INICIAL Y DISTANCIAS DE RUTAS:\")\n",
        "for i, ruta in enumerate(poblacion):\n",
        "    total = distancia_ruta(poblacion[i])\n",
        "    print(f\"Ruta {i+1}: {poblacion[i]}, Distancia: {total}\")\n",
        "#Determinando la mejor solución\n",
        "mejor_solucion = None\n",
        "mejor_fitness = float('-inf')  #Inicializa con el peor fitness posible\n",
        "for solucion in poblacion:\n",
        "    fitness_solucion = fitness(solucion) #Llama a la función fitness enviando como parámetro una solución (correspondiente a cada uno de los elementos de la población generada)\n",
        "    if fitness_solucion > mejor_fitness:\n",
        "        mejor_fitness = fitness_solucion\n",
        "        mejor_solucion = solucion\n",
        "print(\"\\nMEJOR RUTA ENCONTRADA EN LA BÚSQUEDA ALEATORIA:\")\n",
        "print(\"\\nMejor Ruta Encontrada: \", mejor_solucion)\n",
        "print(\"Distancia de la Mejor Ruta: \", (1.0 / mejor_fitness)) # Convierte el fitness de nuevo a distancia"
      ],
      "metadata": {
        "id": "mEFM2KgpOxB1",
        "colab": {
          "base_uri": "https://localhost:8080/"
        },
        "outputId": "3d906bdf-6a34-4d59-84d0-eb5e38cd67f4"
      },
      "execution_count": 5,
      "outputs": [
        {
          "output_type": "stream",
          "name": "stdout",
          "text": [
            "\n",
            "RESULTADOS DE BÚSQUEDA ALEATORIA\n",
            "\n",
            "POBLACIÓN INICIAL Y DISTANCIAS DE RUTAS:\n",
            "Ruta 1: ['Valencia', 'Barcelona', 'Zamora', 'Madrid'], Distancia: 16.8838884801635\n",
            "Ruta 2: ['Valencia', 'Madrid', 'Zamora', 'Barcelona'], Distancia: 16.8838884801635\n",
            "Ruta 3: ['Zamora', 'Valencia', 'Barcelona', 'Madrid'], Distancia: 17.202178661695974\n",
            "Ruta 4: ['Valencia', 'Barcelona', 'Zamora', 'Madrid'], Distancia: 16.8838884801635\n",
            "Ruta 5: ['Barcelona', 'Valencia', 'Madrid', 'Zamora'], Distancia: 16.8838884801635\n",
            "Ruta 6: ['Madrid', 'Barcelona', 'Valencia', 'Zamora'], Distancia: 17.202178661695974\n",
            "Ruta 7: ['Zamora', 'Madrid', 'Valencia', 'Barcelona'], Distancia: 16.8838884801635\n",
            "Ruta 8: ['Zamora', 'Barcelona', 'Madrid', 'Valencia'], Distancia: 23.080066671202907\n",
            "Ruta 9: ['Madrid', 'Barcelona', 'Zamora', 'Valencia'], Distancia: 23.080066671202907\n",
            "Ruta 10: ['Barcelona', 'Zamora', 'Madrid', 'Valencia'], Distancia: 16.8838884801635\n",
            "Ruta 11: ['Madrid', 'Barcelona', 'Zamora', 'Valencia'], Distancia: 23.080066671202907\n",
            "Ruta 12: ['Barcelona', 'Valencia', 'Madrid', 'Zamora'], Distancia: 16.8838884801635\n",
            "Ruta 13: ['Madrid', 'Barcelona', 'Zamora', 'Valencia'], Distancia: 23.080066671202907\n",
            "Ruta 14: ['Barcelona', 'Madrid', 'Valencia', 'Zamora'], Distancia: 23.080066671202907\n",
            "Ruta 15: ['Madrid', 'Valencia', 'Zamora', 'Barcelona'], Distancia: 23.080066671202907\n",
            "Ruta 16: ['Valencia', 'Madrid', 'Zamora', 'Barcelona'], Distancia: 16.8838884801635\n",
            "Ruta 17: ['Madrid', 'Zamora', 'Barcelona', 'Valencia'], Distancia: 16.8838884801635\n",
            "Ruta 18: ['Madrid', 'Valencia', 'Zamora', 'Barcelona'], Distancia: 23.080066671202907\n",
            "Ruta 19: ['Barcelona', 'Madrid', 'Valencia', 'Zamora'], Distancia: 23.080066671202907\n",
            "Ruta 20: ['Zamora', 'Valencia', 'Barcelona', 'Madrid'], Distancia: 17.202178661695974\n",
            "Ruta 21: ['Valencia', 'Zamora', 'Barcelona', 'Madrid'], Distancia: 23.080066671202907\n",
            "Ruta 22: ['Zamora', 'Barcelona', 'Valencia', 'Madrid'], Distancia: 16.8838884801635\n",
            "Ruta 23: ['Zamora', 'Madrid', 'Barcelona', 'Valencia'], Distancia: 17.202178661695974\n",
            "Ruta 24: ['Valencia', 'Barcelona', 'Zamora', 'Madrid'], Distancia: 16.8838884801635\n",
            "\n",
            "MEJOR RUTA ENCONTRADA EN LA BÚSQUEDA ALEATORIA:\n",
            "\n",
            "Mejor Ruta Encontrada:  ['Valencia', 'Barcelona', 'Zamora', 'Madrid']\n",
            "Distancia de la Mejor Ruta:  16.8838884801635\n"
          ]
        }
      ]
    },
    {
      "cell_type": "code",
      "source": [
        "# Probando el código\n",
        "n=len(ciudades)\n",
        "# Imprimiendo la lista de ciudades\n",
        "print(\"\\nLista de ciudades: \",nombres_ciudades)\n",
        "print(\"\\n\")\n",
        "\n",
        "# Imprimiendo las coordenadas de las ciudades\n",
        "coordenadas_ciudades = [ciudades[nombre] for nombre in ciudades]\n",
        "print(\"\\nCoordenadas de las ciudades: \", coordenadas_ciudades)\n",
        "print(\"\\n\")\n",
        "\n",
        "#Imprimiendo la matriz de distancias entre ciudades\n",
        "matriz = calcular_matriz_distancias(ciudades, nombres_ciudades)\n",
        "print(\"\\nMatriz de distancias entre ciudades de \", n, \" filas x \", n, \" columnas:\\n\" )\n",
        "for fila in matriz:\n",
        "    print(fila)\n",
        "print(\"\\n\")\n",
        "# Imprimiendo la matriz de distancias, enumerando cada una de las distancias (que serían en total nxn)\n",
        "print(\"\\nDistancias entre ciudades:\\n\")\n",
        "for i in range(len(ciudades)):\n",
        "    for j in range(len(ciudades)):\n",
        "        #print(f\"Distancia entre ciudad {i+1} y ciudad {j+1}: {matriz[i][j]:.2f}\")\n",
        "        print(f\"Distancia entre ciudad {i+1} y ciudad {j+1}: {matriz[i][j]:.2f} ({nombres_ciudades[i]} y {nombres_ciudades[j]}) \")\n",
        "print(\"\\n\")\n",
        "\n",
        "#Probando el evitar distancias duplicadas y las distancias de 0\n",
        "\"\"\"for i in range(len(ciudades)):\n",
        "    for j in range(i + 1, len(ciudades)):  # Comenzamos desde i+1 para evitar imprimir duplicados y la distancia de una ciudad a sí misma\n",
        "        print(f\"Distancia entre {nombres_ciudades[i]} y {nombres_ciudades[j]}: {matriz_distancias[i][j]:.2f}\")\n",
        "print(\"\\n\")\n",
        "\"\"\"\n",
        "#Llamando ala funcion calcular_distancias_utiles, pero dejar si es necesario sino eliminarla y descomentar las líneas previas que hacen la impresión sin llamar a una función.\n",
        "distancias_utiles = calcular_distancias_utiles(matriz, nombres_ciudades)\n",
        "num_distancias_utiles = int(((n*n)-n)/2)\n",
        "print(\"\\nDistancias entre ciudades (sin considerar las distancias repetidas ni las distancias entre una ciudad y sí misma)\\n\")\n",
        "for i in range(num_distancias_utiles):\n",
        "  print(distancias_utiles[i])\n",
        "print(\"\\n\")\n"
      ],
      "metadata": {
        "colab": {
          "base_uri": "https://localhost:8080/"
        },
        "id": "yAYxI7CHckTS",
        "outputId": "e0325a00-2b2f-45a2-b154-599c73beabf4"
      },
      "execution_count": 6,
      "outputs": [
        {
          "output_type": "stream",
          "name": "stdout",
          "text": [
            "\n",
            "Lista de ciudades:  ['Madrid', 'Barcelona', 'Valencia', 'Zamora']\n",
            "\n",
            "\n",
            "\n",
            "Coordenadas de las ciudades:  [(40.4168, -3.7038), (41.3851, 2.1734), (39.4699, -0.3763), (41.5033, -5.747)]\n",
            "\n",
            "\n",
            "\n",
            "Matriz de distancias entre ciudades de  4  filas x  4  columnas:\n",
            "\n",
            "[0.0, 5.956432214841364, 3.459606315753282, 2.3141193767824513]\n",
            "[5.956432214841364, 0.0, 3.188880858545831, 7.921281929081934]\n",
            "[3.459606315753282, 3.188880858545831, 0.0, 5.742746211526329]\n",
            "[2.3141193767824513, 7.921281929081934, 5.742746211526329, 0.0]\n",
            "\n",
            "\n",
            "\n",
            "Distancias entre ciudades:\n",
            "\n",
            "Distancia entre ciudad 1 y ciudad 1: 0.00 (Madrid y Madrid) \n",
            "Distancia entre ciudad 1 y ciudad 2: 5.96 (Madrid y Barcelona) \n",
            "Distancia entre ciudad 1 y ciudad 3: 3.46 (Madrid y Valencia) \n",
            "Distancia entre ciudad 1 y ciudad 4: 2.31 (Madrid y Zamora) \n",
            "Distancia entre ciudad 2 y ciudad 1: 5.96 (Barcelona y Madrid) \n",
            "Distancia entre ciudad 2 y ciudad 2: 0.00 (Barcelona y Barcelona) \n",
            "Distancia entre ciudad 2 y ciudad 3: 3.19 (Barcelona y Valencia) \n",
            "Distancia entre ciudad 2 y ciudad 4: 7.92 (Barcelona y Zamora) \n",
            "Distancia entre ciudad 3 y ciudad 1: 3.46 (Valencia y Madrid) \n",
            "Distancia entre ciudad 3 y ciudad 2: 3.19 (Valencia y Barcelona) \n",
            "Distancia entre ciudad 3 y ciudad 3: 0.00 (Valencia y Valencia) \n",
            "Distancia entre ciudad 3 y ciudad 4: 5.74 (Valencia y Zamora) \n",
            "Distancia entre ciudad 4 y ciudad 1: 2.31 (Zamora y Madrid) \n",
            "Distancia entre ciudad 4 y ciudad 2: 7.92 (Zamora y Barcelona) \n",
            "Distancia entre ciudad 4 y ciudad 3: 5.74 (Zamora y Valencia) \n",
            "Distancia entre ciudad 4 y ciudad 4: 0.00 (Zamora y Zamora) \n",
            "\n",
            "\n",
            "\n",
            "Distancias entre ciudades (sin considerar las distancias repetidas ni las distancias entre una ciudad y sí misma)\n",
            "\n",
            "('Madrid', 'Barcelona', 5.956432214841364)\n",
            "('Madrid', 'Valencia', 3.459606315753282)\n",
            "('Madrid', 'Zamora', 2.3141193767824513)\n",
            "('Barcelona', 'Valencia', 3.188880858545831)\n",
            "('Barcelona', 'Zamora', 7.921281929081934)\n",
            "('Valencia', 'Zamora', 5.742746211526329)\n",
            "\n",
            "\n"
          ]
        }
      ]
    },
    {
      "cell_type": "markdown",
      "source": [
        "* **"
      ],
      "metadata": {
        "id": "zngCbWvYjJt7"
      }
    },
    {
      "cell_type": "markdown",
      "source": [
        "* **IMPLEMENTACIÓN DEL ALGORITMO EVOLUTIVO**\n",
        "\n",
        "  * **Selección de padres mediante torneo**"
      ],
      "metadata": {
        "id": "T9QM24xXjWol"
      }
    },
    {
      "cell_type": "code",
      "source": [
        "def select_parents_torneo(poblacion, fitnesses, tam_poblacion):\n",
        "    parents = []\n",
        "    ruta_y_distancia_padres={}\n",
        "    for i in range(2):\n",
        "        padre1_index = random.randint(0, tam_poblacion-1)\n",
        "        padre2_index = random.randint(0, tam_poblacion-1)\n",
        "        if fitnesses[padre1_index]>fitnesses[padre2_index]:\n",
        "          parents.append(poblacion[padre1_index])\n",
        "        else:\n",
        "          parents.append(poblacion[padre2_index])\n",
        "    return parents"
      ],
      "metadata": {
        "id": "Hr9oCGPbjbD8"
      },
      "execution_count": 7,
      "outputs": []
    },
    {
      "cell_type": "markdown",
      "source": [
        "  * **Mutación**\n",
        "  \n",
        "  Aplica mutación al individuo intercambiando aleatoriamente dos ciudades.\n"
      ],
      "metadata": {
        "id": "rehtwvS8ATQ6"
      }
    },
    {
      "cell_type": "code",
      "source": [
        "def mutacion(solucion, tasa_mutacion=0.1):\n",
        "    tam = len(solucion)\n",
        "    for i in range(tam):\n",
        "        if random.random() < tasa_mutacion:\n",
        "            j = random.randrange(tam)\n",
        "            solucion[i], solucion[j] = solucion[j], solucion[i]\n",
        "    return solucion"
      ],
      "metadata": {
        "id": "CtkMABCmAqKS"
      },
      "execution_count": 8,
      "outputs": []
    },
    {
      "cell_type": "markdown",
      "source": [
        "  * **Cruce PMX (Partially Mapped Crossover)**\n",
        "\n",
        "  Se selecciona un segmento aleatorio de padre1 y se establece un mapeo para mantener la validez de la permutación."
      ],
      "metadata": {
        "id": "nCDKVIvtEbV9"
      }
    },
    {
      "cell_type": "code",
      "source": [
        "def pmx_crossover(padre1, padre2):\n",
        "    tam = len(padre1)\n",
        "    hijo = [None] * tam #Se inicializa la lista con un tamaño establecido con None en todas sus posiciones\n",
        "    inicio, fin = sorted([random.randint(0, tam - 1) for _ in range(2)]) #Se selecciona dos puntos de cruce aleatorios\n",
        "    hijo[inicio:fin+1] = padre1[inicio:fin+1] #Se copia el segmento de padre1 en el hijo\n",
        "    mapeo = {padre1[i]: padre2[i] for i in range(inicio, fin+1)}  #Se mapea, es decir que se arman correspondencias entre padre1 y padre2 en cada una de las posiciones desde el inicio hasta el fin\n",
        "    for i in range(tam): #Completar el hijo con valores de padre2, evitando repeticiones\n",
        "        if hijo[i] is None: #El código ejecuta el siguiente bloque si la posición i del hijo está vacía\n",
        "            valor = padre2[i] #Se copia la posición i del padre2 en la variable valor\n",
        "            while valor in hijo: #Se entra en el siguiente bucle cuando el contenido de la variable valor ya está en el hijo, es decir cuando la ciudad ya forma parte de la nueva ruta que constituye el hijo\n",
        "                valor = mapeo.get(valor, valor) #Se obtiene del mapeo previo, la correspondencia y se copia ese valor en la variable valor\n",
        "            hijo[i] = valor #Se copia el contenido de la variable valor en la posición i del hijo\n",
        "    return hijo"
      ],
      "metadata": {
        "id": "5b_BbwcoEphF"
      },
      "execution_count": 9,
      "outputs": []
    },
    {
      "cell_type": "markdown",
      "source": [
        "  * **Algoritmo Evolutivo**\n",
        "\n",
        "  LA MUTACIÓN Y EL CRUCE DEBERÍAN FUNCIONAR SIN PROBLEMA, PROBAR EL SIGUIENTE ALGORITMO EVOLUTIVO, EL PUNTO 9 Y EL MAIN QUE ESTÁN EN COPILOT"
      ],
      "metadata": {
        "id": "ViXk2uJ3pSuZ"
      }
    },
    {
      "cell_type": "code",
      "source": [
        "def algoritmo_evolutivo(lista_ciudades, tam_poblacion, generaciones, tasa_mutacion):\n",
        "    poblacion = crear_poblacion_inicial(tam_poblacion, lista_ciudades) #Crea la población inicial\n",
        "    fitnesses = [fitness(individuo) for individuo in poblacion]  #Calcula fitness de cada individuo de la solución\n",
        "    mejor_ruta = min(poblacion, key=lambda ruta: distancia_ruta(ruta)) #Encuentra la ruta con la menor distancia usando 'min' y una función lambda que aplica 'distancia_ruta'\n",
        "    mejor_distancia = distancia_ruta(mejor_ruta) #Encuentra la mejor distancia en base a la mejor ruta\n",
        "    for gen in range(generaciones):\n",
        "        nueva_poblacion = [] #Define una nueva lista de población\n",
        "        for _ in range(tam_poblacion):\n",
        "            padre1, padre2 = select_parents_torneo(poblacion, fitnesses, tam_poblacion) #Crea dos padres con torneo binario\n",
        "            hijo = pmx_crossover(padre1, padre2) #Crea el hijo a través de la función cruce\n",
        "            hijo = mutacion(hijo, tasa_mutacion) #Muta al hijo\n",
        "            nueva_poblacion.append(hijo)#Añade el hijo creado y mutado a la nueva lista de población\n",
        "        poblacion = nueva_poblacion #Esa nueva lista de población se copia en la lista población\n",
        "        fitnesses = [fitness(individuo) for individuo in poblacion]  #Vuelve a calcular el fitness de la población\n",
        "        candidato = min(poblacion, key=lambda ruta: distancia_ruta(ruta)) #Evalúa la mejor solución de la nueva generación (candidato)\n",
        "        dist_candidato = distancia_ruta(candidato) #Encuentra la distanci del candidato\n",
        "        if dist_candidato < mejor_distancia: #Si la distancia del candidato es menor a la mejor distancia previa se establece que la mejor ruta es la del candidato de la nueva generación\n",
        "            mejor_ruta = candidato\n",
        "            mejor_distancia = dist_candidato\n",
        "        print(f\"Generación {gen+1}: Mejor distancia = {mejor_distancia:.4f}\")\n",
        "    return mejor_ruta, mejor_distancia"
      ],
      "metadata": {
        "id": "HqPFN2CbnRh5"
      },
      "execution_count": 10,
      "outputs": []
    },
    {
      "cell_type": "markdown",
      "source": [
        "#3. Experimentación"
      ],
      "metadata": {
        "id": "_CDOfMPytXuC"
      }
    },
    {
      "cell_type": "code",
      "source": [
        "\"\"\"fitnesses = [fitness(solution) for solution in poblacion]\n",
        "parents = select_parents_torneo(poblacion, fitnesses, tam_poblacion)\n",
        "print(\"\\nPADRES SELECCIONADOS \")\n",
        "for i in range(len(parents)):\n",
        "    total = distancia_ruta(parents[i])\n",
        "    print(f\"Padre {i}: con ruta {parents[i]} y Distancia: {total}\")\n",
        "\"\"\"\n",
        "\n",
        "# Visualización de la matriz de distancias\n",
        "matriz = calcular_matriz_distancias(ciudades, nombres_ciudades)\n",
        "print(\"Matriz de distancias (simétrica):\")\n",
        "for fila in matriz:\n",
        "    print(fila)\n",
        "# Parámetros para el algoritmo evolutivo\n",
        "tam_poblacion = 50       # Tamaño de la población\n",
        "generaciones = 50        # Número de generaciones a evolucionar\n",
        "tasa_mutacion = 0.1      # Probabilidad de mutación por individuo\n",
        "# Ejecutar el algoritmo evolutivo con las ciudades definidas\n",
        "mejor_ruta, mejor_distancia = algoritmo_evolutivo(nombres_ciudades, tam_poblacion, generaciones, tasa_mutacion)\n",
        "print(\"\\nMejor ruta encontrada:\", mejor_ruta)\n",
        "print(\"Distancia total del ciclo:\", mejor_distancia)\n",
        "# Visualizar la mejor ruta encontrada\n",
        "#plot_ruta(mejor_ruta)\n"
      ],
      "metadata": {
        "colab": {
          "base_uri": "https://localhost:8080/",
          "height": 528
        },
        "id": "EdccazDGtm0I",
        "outputId": "5f44217b-56a6-4a9a-f3dc-cd0f9686d983"
      },
      "execution_count": 11,
      "outputs": [
        {
          "output_type": "stream",
          "name": "stdout",
          "text": [
            "Matriz de distancias (simétrica):\n",
            "[0.0, 5.956432214841364, 3.459606315753282, 2.3141193767824513]\n",
            "[5.956432214841364, 0.0, 3.188880858545831, 7.921281929081934]\n",
            "[3.459606315753282, 3.188880858545831, 0.0, 5.742746211526329]\n",
            "[2.3141193767824513, 7.921281929081934, 5.742746211526329, 0.0]\n"
          ]
        },
        {
          "output_type": "error",
          "ename": "TypeError",
          "evalue": "unhashable type: 'list'",
          "traceback": [
            "\u001b[0;31m---------------------------------------------------------------------------\u001b[0m",
            "\u001b[0;31mTypeError\u001b[0m                                 Traceback (most recent call last)",
            "\u001b[0;32m<ipython-input-11-ab25125470ef>\u001b[0m in \u001b[0;36m<cell line: 0>\u001b[0;34m()\u001b[0m\n\u001b[1;32m     17\u001b[0m \u001b[0mtasa_mutacion\u001b[0m \u001b[0;34m=\u001b[0m \u001b[0;36m0.1\u001b[0m      \u001b[0;31m# Probabilidad de mutación por individuo\u001b[0m\u001b[0;34m\u001b[0m\u001b[0;34m\u001b[0m\u001b[0m\n\u001b[1;32m     18\u001b[0m \u001b[0;31m# Ejecutar el algoritmo evolutivo con las ciudades definidas\u001b[0m\u001b[0;34m\u001b[0m\u001b[0;34m\u001b[0m\u001b[0m\n\u001b[0;32m---> 19\u001b[0;31m \u001b[0mmejor_ruta\u001b[0m\u001b[0;34m,\u001b[0m \u001b[0mmejor_distancia\u001b[0m \u001b[0;34m=\u001b[0m \u001b[0malgoritmo_evolutivo\u001b[0m\u001b[0;34m(\u001b[0m\u001b[0mnombres_ciudades\u001b[0m\u001b[0;34m,\u001b[0m \u001b[0mtam_poblacion\u001b[0m\u001b[0;34m,\u001b[0m \u001b[0mgeneraciones\u001b[0m\u001b[0;34m,\u001b[0m \u001b[0mtasa_mutacion\u001b[0m\u001b[0;34m)\u001b[0m\u001b[0;34m\u001b[0m\u001b[0;34m\u001b[0m\u001b[0m\n\u001b[0m\u001b[1;32m     20\u001b[0m \u001b[0mprint\u001b[0m\u001b[0;34m(\u001b[0m\u001b[0;34m\"\\nMejor ruta encontrada:\"\u001b[0m\u001b[0;34m,\u001b[0m \u001b[0mmejor_ruta\u001b[0m\u001b[0;34m)\u001b[0m\u001b[0;34m\u001b[0m\u001b[0;34m\u001b[0m\u001b[0m\n\u001b[1;32m     21\u001b[0m \u001b[0mprint\u001b[0m\u001b[0;34m(\u001b[0m\u001b[0;34m\"Distancia total del ciclo:\"\u001b[0m\u001b[0;34m,\u001b[0m \u001b[0mmejor_distancia\u001b[0m\u001b[0;34m)\u001b[0m\u001b[0;34m\u001b[0m\u001b[0;34m\u001b[0m\u001b[0m\n",
            "\u001b[0;32m<ipython-input-10-fc24d60ba18e>\u001b[0m in \u001b[0;36malgoritmo_evolutivo\u001b[0;34m(lista_ciudades, tam_poblacion, generaciones, tasa_mutacion)\u001b[0m\n\u001b[1;32m      1\u001b[0m \u001b[0;32mdef\u001b[0m \u001b[0malgoritmo_evolutivo\u001b[0m\u001b[0;34m(\u001b[0m\u001b[0mlista_ciudades\u001b[0m\u001b[0;34m,\u001b[0m \u001b[0mtam_poblacion\u001b[0m\u001b[0;34m,\u001b[0m \u001b[0mgeneraciones\u001b[0m\u001b[0;34m,\u001b[0m \u001b[0mtasa_mutacion\u001b[0m\u001b[0;34m)\u001b[0m\u001b[0;34m:\u001b[0m\u001b[0;34m\u001b[0m\u001b[0;34m\u001b[0m\u001b[0m\n\u001b[1;32m      2\u001b[0m     \u001b[0mpoblacion\u001b[0m \u001b[0;34m=\u001b[0m \u001b[0mcrear_poblacion_inicial\u001b[0m\u001b[0;34m(\u001b[0m\u001b[0mtam_poblacion\u001b[0m\u001b[0;34m,\u001b[0m \u001b[0mlista_ciudades\u001b[0m\u001b[0;34m)\u001b[0m \u001b[0;31m#Crea la población inicial\u001b[0m\u001b[0;34m\u001b[0m\u001b[0;34m\u001b[0m\u001b[0m\n\u001b[0;32m----> 3\u001b[0;31m     \u001b[0mfitnesses\u001b[0m \u001b[0;34m=\u001b[0m \u001b[0;34m[\u001b[0m\u001b[0mfitness\u001b[0m\u001b[0;34m(\u001b[0m\u001b[0mindividuo\u001b[0m\u001b[0;34m)\u001b[0m \u001b[0;32mfor\u001b[0m \u001b[0mindividuo\u001b[0m \u001b[0;32min\u001b[0m \u001b[0mpoblacion\u001b[0m\u001b[0;34m]\u001b[0m  \u001b[0;31m#Calcula fitness de cada individuo de la solución\u001b[0m\u001b[0;34m\u001b[0m\u001b[0;34m\u001b[0m\u001b[0m\n\u001b[0m\u001b[1;32m      4\u001b[0m     \u001b[0mmejor_ruta\u001b[0m \u001b[0;34m=\u001b[0m \u001b[0mmin\u001b[0m\u001b[0;34m(\u001b[0m\u001b[0mpoblacion\u001b[0m\u001b[0;34m,\u001b[0m \u001b[0mkey\u001b[0m\u001b[0;34m=\u001b[0m\u001b[0;32mlambda\u001b[0m \u001b[0mruta\u001b[0m\u001b[0;34m:\u001b[0m \u001b[0mdistancia_ruta\u001b[0m\u001b[0;34m(\u001b[0m\u001b[0mruta\u001b[0m\u001b[0;34m)\u001b[0m\u001b[0;34m)\u001b[0m \u001b[0;31m#Encuentra la ruta con la menor distancia usando 'min' y una función lambda que aplica 'distancia_ruta'\u001b[0m\u001b[0;34m\u001b[0m\u001b[0;34m\u001b[0m\u001b[0m\n\u001b[1;32m      5\u001b[0m     \u001b[0mmejor_distancia\u001b[0m \u001b[0;34m=\u001b[0m \u001b[0mdistancia_ruta\u001b[0m\u001b[0;34m(\u001b[0m\u001b[0mmejor_ruta\u001b[0m\u001b[0;34m)\u001b[0m \u001b[0;31m#Encuentra la mejor distancia en base a la mejor ruta\u001b[0m\u001b[0;34m\u001b[0m\u001b[0;34m\u001b[0m\u001b[0m\n",
            "\u001b[0;32m<ipython-input-10-fc24d60ba18e>\u001b[0m in \u001b[0;36m<listcomp>\u001b[0;34m(.0)\u001b[0m\n\u001b[1;32m      1\u001b[0m \u001b[0;32mdef\u001b[0m \u001b[0malgoritmo_evolutivo\u001b[0m\u001b[0;34m(\u001b[0m\u001b[0mlista_ciudades\u001b[0m\u001b[0;34m,\u001b[0m \u001b[0mtam_poblacion\u001b[0m\u001b[0;34m,\u001b[0m \u001b[0mgeneraciones\u001b[0m\u001b[0;34m,\u001b[0m \u001b[0mtasa_mutacion\u001b[0m\u001b[0;34m)\u001b[0m\u001b[0;34m:\u001b[0m\u001b[0;34m\u001b[0m\u001b[0;34m\u001b[0m\u001b[0m\n\u001b[1;32m      2\u001b[0m     \u001b[0mpoblacion\u001b[0m \u001b[0;34m=\u001b[0m \u001b[0mcrear_poblacion_inicial\u001b[0m\u001b[0;34m(\u001b[0m\u001b[0mtam_poblacion\u001b[0m\u001b[0;34m,\u001b[0m \u001b[0mlista_ciudades\u001b[0m\u001b[0;34m)\u001b[0m \u001b[0;31m#Crea la población inicial\u001b[0m\u001b[0;34m\u001b[0m\u001b[0;34m\u001b[0m\u001b[0m\n\u001b[0;32m----> 3\u001b[0;31m     \u001b[0mfitnesses\u001b[0m \u001b[0;34m=\u001b[0m \u001b[0;34m[\u001b[0m\u001b[0mfitness\u001b[0m\u001b[0;34m(\u001b[0m\u001b[0mindividuo\u001b[0m\u001b[0;34m)\u001b[0m \u001b[0;32mfor\u001b[0m \u001b[0mindividuo\u001b[0m \u001b[0;32min\u001b[0m \u001b[0mpoblacion\u001b[0m\u001b[0;34m]\u001b[0m  \u001b[0;31m#Calcula fitness de cada individuo de la solución\u001b[0m\u001b[0;34m\u001b[0m\u001b[0;34m\u001b[0m\u001b[0m\n\u001b[0m\u001b[1;32m      4\u001b[0m     \u001b[0mmejor_ruta\u001b[0m \u001b[0;34m=\u001b[0m \u001b[0mmin\u001b[0m\u001b[0;34m(\u001b[0m\u001b[0mpoblacion\u001b[0m\u001b[0;34m,\u001b[0m \u001b[0mkey\u001b[0m\u001b[0;34m=\u001b[0m\u001b[0;32mlambda\u001b[0m \u001b[0mruta\u001b[0m\u001b[0;34m:\u001b[0m \u001b[0mdistancia_ruta\u001b[0m\u001b[0;34m(\u001b[0m\u001b[0mruta\u001b[0m\u001b[0;34m)\u001b[0m\u001b[0;34m)\u001b[0m \u001b[0;31m#Encuentra la ruta con la menor distancia usando 'min' y una función lambda que aplica 'distancia_ruta'\u001b[0m\u001b[0;34m\u001b[0m\u001b[0;34m\u001b[0m\u001b[0m\n\u001b[1;32m      5\u001b[0m     \u001b[0mmejor_distancia\u001b[0m \u001b[0;34m=\u001b[0m \u001b[0mdistancia_ruta\u001b[0m\u001b[0;34m(\u001b[0m\u001b[0mmejor_ruta\u001b[0m\u001b[0;34m)\u001b[0m \u001b[0;31m#Encuentra la mejor distancia en base a la mejor ruta\u001b[0m\u001b[0;34m\u001b[0m\u001b[0;34m\u001b[0m\u001b[0m\n",
            "\u001b[0;32m<ipython-input-3-8a3dabe2e973>\u001b[0m in \u001b[0;36mfitness\u001b[0;34m(solucion)\u001b[0m\n\u001b[1;32m      1\u001b[0m \u001b[0;32mdef\u001b[0m \u001b[0mfitness\u001b[0m\u001b[0;34m(\u001b[0m\u001b[0msolucion\u001b[0m\u001b[0;34m)\u001b[0m\u001b[0;34m:\u001b[0m\u001b[0;34m\u001b[0m\u001b[0;34m\u001b[0m\u001b[0m\n\u001b[0;32m----> 2\u001b[0;31m     \u001b[0mdist\u001b[0m \u001b[0;34m=\u001b[0m \u001b[0mdistancia_ruta\u001b[0m\u001b[0;34m(\u001b[0m\u001b[0msolucion\u001b[0m\u001b[0;34m)\u001b[0m\u001b[0;34m\u001b[0m\u001b[0;34m\u001b[0m\u001b[0m\n\u001b[0m\u001b[1;32m      3\u001b[0m     \u001b[0mfitness_solucion\u001b[0m \u001b[0;34m=\u001b[0m \u001b[0;36m1.0\u001b[0m \u001b[0;34m/\u001b[0m \u001b[0mdist\u001b[0m \u001b[0;32mif\u001b[0m \u001b[0mdist\u001b[0m \u001b[0;34m>\u001b[0m \u001b[0;36m0\u001b[0m \u001b[0;32melse\u001b[0m \u001b[0mfloat\u001b[0m\u001b[0;34m(\u001b[0m\u001b[0;34m'inf'\u001b[0m\u001b[0;34m)\u001b[0m\u001b[0;34m\u001b[0m\u001b[0;34m\u001b[0m\u001b[0m\n\u001b[1;32m      4\u001b[0m     \u001b[0;32mreturn\u001b[0m \u001b[0mfitness_solucion\u001b[0m\u001b[0;34m\u001b[0m\u001b[0;34m\u001b[0m\u001b[0m\n",
            "\u001b[0;32m<ipython-input-2-8800aec47628>\u001b[0m in \u001b[0;36mdistancia_ruta\u001b[0;34m(ruta)\u001b[0m\n\u001b[1;32m     23\u001b[0m     \u001b[0mn\u001b[0m \u001b[0;34m=\u001b[0m \u001b[0mlen\u001b[0m\u001b[0;34m(\u001b[0m\u001b[0mruta\u001b[0m\u001b[0;34m)\u001b[0m\u001b[0;34m\u001b[0m\u001b[0;34m\u001b[0m\u001b[0m\n\u001b[1;32m     24\u001b[0m     \u001b[0;32mfor\u001b[0m \u001b[0mi\u001b[0m \u001b[0;32min\u001b[0m \u001b[0mrange\u001b[0m\u001b[0;34m(\u001b[0m\u001b[0mn\u001b[0m\u001b[0;34m)\u001b[0m\u001b[0;34m:\u001b[0m\u001b[0;34m\u001b[0m\u001b[0;34m\u001b[0m\u001b[0m\n\u001b[0;32m---> 25\u001b[0;31m         \u001b[0mtotal\u001b[0m \u001b[0;34m+=\u001b[0m \u001b[0mdistancia\u001b[0m\u001b[0;34m(\u001b[0m\u001b[0mciudades\u001b[0m\u001b[0;34m[\u001b[0m\u001b[0mruta\u001b[0m\u001b[0;34m[\u001b[0m\u001b[0mi\u001b[0m\u001b[0;34m]\u001b[0m\u001b[0;34m]\u001b[0m\u001b[0;34m,\u001b[0m \u001b[0mciudades\u001b[0m\u001b[0;34m[\u001b[0m\u001b[0mruta\u001b[0m\u001b[0;34m[\u001b[0m\u001b[0;34m(\u001b[0m\u001b[0mi\u001b[0m\u001b[0;34m+\u001b[0m\u001b[0;36m1\u001b[0m\u001b[0;34m)\u001b[0m \u001b[0;34m%\u001b[0m \u001b[0mn\u001b[0m\u001b[0;34m]\u001b[0m\u001b[0;34m]\u001b[0m\u001b[0;34m)\u001b[0m \u001b[0;31m#[(i+1) % n] puede dar como resultado 3 casos: si (i+1)<n el resultado es (i+1), si (i+1)=n el resultado es 0, si (i+1)>n el resultado es la parte entera, pero que en este caso no aplicaría\u001b[0m\u001b[0;34m\u001b[0m\u001b[0;34m\u001b[0m\u001b[0m\n\u001b[0m\u001b[1;32m     26\u001b[0m     \u001b[0;32mreturn\u001b[0m \u001b[0mtotal\u001b[0m \u001b[0;31m# Como se ve en el comentario anterior, el total incluye la distancia entre la ultima ciudad (cuando (i+1)=n), donde el índice sería 0.\u001b[0m\u001b[0;34m\u001b[0m\u001b[0;34m\u001b[0m\u001b[0m\n",
            "\u001b[0;31mTypeError\u001b[0m: unhashable type: 'list'"
          ]
        }
      ]
    },
    {
      "cell_type": "code",
      "source": [
        "\"\"\"# 8. Algoritmo evolutivo: Integración de selección, cruzamiento y mutación\n",
        "def algoritmo_evolutivo(lista_ciudades, tam_poblacion, generaciones, tasa_mutacion):\n",
        "    poblacion = crear_poblacion_inicial(tam_poblacion, lista_ciudades)\n",
        "    mejor_ruta = min(poblacion, key=lambda ruta: distancia_ruta(ruta))\n",
        "    mejor_distancia = distancia_ruta(mejor_ruta)\n",
        "\n",
        "    for gen in range(generaciones):\n",
        "        nueva_poblacion = []\n",
        "        for _ in range(tam_poblacion):\n",
        "            padre1 = seleccion_torneo(poblacion)\n",
        "            padre2 = seleccion_torneo(poblacion)\n",
        "            hijo = cruzamiento(padre1, padre2)\n",
        "            hijo = mutacion(hijo, tasa_mutacion)\n",
        "            nueva_poblacion.append(hijo)\n",
        "        poblacion = nueva_poblacion\n",
        "\n",
        "       candidato = min(poblacion, key=lambda ruta: distancia_ruta(ruta))\n",
        "        dist_candidato = distancia_ruta(candidato)\n",
        "        if dist_candidato < mejor_distancia:\n",
        "            mejor_ruta = candidato\n",
        "            mejor_distancia = dist_candidato\n",
        "        print(f\"Generación {gen+1}: Mejor distancia = {mejor_distancia:.4f}\")\n",
        "\n",
        "    return mejor_ruta, mejor_distancia\n",
        "\n",
        "# 9. Visualización de la mejor ruta encontrada\n",
        "def plot_ruta(ruta):\n",
        "    \"\"\"\n",
        "    #Grafica la ruta óptima utilizando las coordenadas.\n",
        "    #Se usa la longitud en el eje x y la latitud en el eje y, y el ciclo se cierra.\n",
        "\"\"\"\n",
        "    xs = []\n",
        "    ys = []\n",
        "    for ciudad in ruta:\n",
        "        coord = ciudades[ciudad]\n",
        "        xs.append(coord[1])\n",
        "        ys.append(coord[0])\n",
        "\n",
        "    # Para cerrar el ciclo, se añade la primera ciudad al final\n",
        "    coord_inicio = ciudades[ruta[0]]\n",
        "    xs.append(coord_inicio[1])\n",
        "    ys.append(coord_inicio[0])\n",
        "\n",
        "    plt.figure(figsize=(8, 6))\n",
        "    plt.plot(xs, ys, 'o-', color='blue')\n",
        " for i, ciudad in enumerate(ruta):\n",
        "        plt.text(xs[i], ys[i], ciudad, fontsize=12, fontweight='bold')\n",
        "    plt.title(\"Mejor Ruta Encontrada\")\n",
        "    plt.xlabel(\"Longitud\")\n",
        "    plt.ylabel(\"Latitud\")\n",
        "    plt.grid(True)\n",
        "    plt.show()\n",
        "\n",
        "# ------------------------------\n",
        "# Función principal (main)\n",
        "# ------------------------------\n",
        "def main():\n",
        "    # Visualización de la matriz de distancias\n",
        "    matriz = calcular_matriz_distancias(ciudades, nombres_ciudades)\n",
        "    print(\"Matriz de distancias (simétrica):\")\n",
        "    for fila in matriz:\n",
        "        print(fila)\n",
        "\n",
        "    # Parámetros para el algoritmo evolutivo\n",
        "    tam_poblacion = 50       # Tamaño de la población\n",
        "    generaciones = 50        # Número de generaciones a evolucionar\n",
        "    tasa_mutacion = 0.1      # Probabilidad de mutación por individuo\n",
        "    # Ejecutar el algoritmo evolutivo con las ciudades definidas\n",
        "    mejor_ruta, mejor_distancia = algoritmo_evolutivo(nombres_ciudades, tam_poblacion, generaciones, tasa_mutacion)\n",
        "    print(\"\\nMejor ruta encontrada:\", mejor_ruta)\n",
        "    print(\"Distancia total del ciclo:\", mejor_distancia)\n",
        "\n",
        "    # Visualizar la mejor ruta encontrada\n",
        "    plot_ruta(mejor_ruta)\n",
        "\n",
        "# Entrada al programa\n",
        "if __name__ == '__main__':\n",
        "    main()\n",
        "\"\"\""
      ],
      "metadata": {
        "id": "p3Sn4V1HbQ71"
      },
      "execution_count": null,
      "outputs": []
    }
  ]
}